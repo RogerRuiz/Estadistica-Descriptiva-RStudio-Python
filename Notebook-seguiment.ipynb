{
  "nbformat": 4,
  "nbformat_minor": 0,
  "metadata": {
    "colab": {
      "name": "Untitled",
      "provenance": [],
      "authorship_tag": "ABX9TyMLn1KBhtTn7yr+YdhqSMNA"
    },
    "kernelspec": {
      "name": "python3",
      "display_name": "Python 3"
    }
  },
  "cells": []
}